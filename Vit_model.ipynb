{
  "cells": [
    {
      "cell_type": "code",
      "execution_count": null,
      "id": "cVHLpkqJJO5W",
      "metadata": {
        "colab": {
          "base_uri": "https://localhost:8080/"
        },
        "id": "cVHLpkqJJO5W",
        "outputId": "14af82fe-6311-4e95-fc0a-98754d411d41"
      },
      "outputs": [
        {
          "name": "stdout",
          "output_type": "stream",
          "text": [
            "Drive already mounted at /content/drive; to attempt to forcibly remount, call drive.mount(\"/content/drive\", force_remount=True).\n"
          ]
        }
      ],
      "source": [
        "from google.colab import drive\n",
        "\n",
        "\n",
        "drive.mount('/content/drive')"
      ]
    },
    {
      "cell_type": "code",
      "execution_count": null,
      "id": "9b285a0b-a703-44a4-8483-9bb91594df2f",
      "metadata": {
        "id": "9b285a0b-a703-44a4-8483-9bb91594df2f"
      },
      "outputs": [],
      "source": [
        "import os\n",
        "import cv2\n",
        "import numpy as np\n",
        "import tensorflow as tf\n",
        "from tensorflow import keras\n",
        "from sklearn.model_selection import train_test_split\n",
        "from tensorflow.keras import layers, models\n",
        "import random\n",
        "# Define constants\n",
        "IMG_SIZE = (224, 224)\n",
        "NUM_FRAMES = 10\n",
        "BATCH_SIZE = 5\n",
        "EPOCHS = 10\n",
        "\n",
        "# Function to extract frames from videos and resize them\n",
        "def extract_frames(video_path):\n",
        "    frames = []\n",
        "    cap = cv2.VideoCapture(video_path)\n",
        "    while len(frames) < NUM_FRAMES:\n",
        "        ret, frame = cap.read()\n",
        "        if not ret:\n",
        "            break\n",
        "        frame = cv2.resize(frame, IMG_SIZE)\n",
        "        frames.append(frame)\n",
        "    cap.release()\n",
        "    return np.array(frames)\n",
        "\n",
        "# Load video data and labels\n",
        "data = []\n",
        "labels = []\n",
        "video_folder_positive = \"/content/drive/MyDrive/CapstoneTeam_115/Dachcam_dataset/videos/training/pos100\"\n",
        "video_folder_negative = \"/content/drive/MyDrive/CapstoneTeam_115/Dachcam_dataset/videos/training/neg100\"\n",
        "\n",
        "for video_file in os.listdir(video_folder_positive):\n",
        "    if video_file.endswith(\".mp4\"):\n",
        "        frames = extract_frames(os.path.join(video_folder_positive, video_file))\n",
        "        if len(frames) == NUM_FRAMES:\n",
        "            data.append(frames)\n",
        "            labels.append(1)  # Positive label\n",
        "\n",
        "for video_file in os.listdir(video_folder_negative):\n",
        "    if video_file.endswith(\".mp4\"):\n",
        "        frames = extract_frames(os.path.join(video_folder_negative, video_file))\n",
        "        if len(frames) == NUM_FRAMES:\n",
        "            data.append(frames)\n",
        "            labels.append(0)  # Negative label\n",
        "\n",
        "data = np.array(data)\n",
        "labels = np.array(labels)\n",
        "\n",
        "# Split the data into train and validation sets\n",
        "x_train, x_valid, y_train, y_valid = train_test_split(data, labels, test_size=0.2, random_state=42)\n",
        "\n",
        "# Preprocess the frames\n",
        "x_train = x_train / 255.0  # Normalize pixel values to [0, 1]\n",
        "x_valid = x_valid / 255.0"
      ]
    },
    {
      "cell_type": "code",
      "execution_count": null,
      "id": "5d0d8054-1ae9-425d-a648-9892e79f82a7",
      "metadata": {
        "id": "5d0d8054-1ae9-425d-a648-9892e79f82a7"
      },
      "outputs": [],
      "source": [
        "import tensorflow as tf\n",
        "from tensorflow import keras\n",
        "from tensorflow.keras import layers\n",
        "from tensorflow.keras.applications import MobileNetV2\n",
        "\n",
        "# Define a custom model with MobileNetV2 as the backbone\n",
        "def vit_model(input_shape, num_classes):\n",
        "    # Create an Input layer for the sequence of frames\n",
        "    input_layer = layers.Input(shape=input_shape)\n",
        "\n",
        "    # Use MobileNetV2 as the backbone\n",
        "    backbone = MobileNetV2(include_top=False, weights='imagenet', input_shape=(IMG_SIZE[0], IMG_SIZE[1], 3))\n",
        "    x = layers.TimeDistributed(backbone)(input_layer)\n",
        "\n",
        "    # Reshape to flatten the frames\n",
        "    x = layers.Reshape((NUM_FRAMES, -1))(x)\n",
        "\n",
        "    # Apply multi-head self-attention\n",
        "    num_heads = 2 # You can adjust this number\n",
        "    x = layers.MultiHeadAttention(num_heads=num_heads, key_dim=128, value_dim=128)(x, x)\n",
        "\n",
        "    # Add feed-forward layer\n",
        "    x = layers.Dense(512, activation='relu')(x)\n",
        "    x = layers.Dropout(0.1)(x)  # You can adjust the dropout rate\n",
        "\n",
        "    # Apply Global Average Pooling to get a single feature vector for each frame\n",
        "    x = layers.GlobalAveragePooling1D()(x)\n",
        "\n",
        "    # Output layer with a sigmoid activation for binary classification\n",
        "    output = layers.Dense(1, activation='sigmoid')(x)\n",
        "\n",
        "    # Create the model\n",
        "    model = keras.Model(inputs=input_layer, outputs=output)\n",
        "\n",
        "    return model\n"
      ]
    },
    {
      "cell_type": "code",
      "execution_count": null,
      "id": "g1LZk0fqHw35",
      "metadata": {
        "colab": {
          "base_uri": "https://localhost:8080/"
        },
        "id": "g1LZk0fqHw35",
        "outputId": "6681aaae-f77d-40e6-8ad1-82faaade8d6d"
      },
      "outputs": [
        {
          "name": "stdout",
          "output_type": "stream",
          "text": [
            "Mounted at /content/drive\n"
          ]
        }
      ],
      "source": [
        "from google.colab import drive\n",
        "drive.mount('/content/drive')"
      ]
    },
    {
      "cell_type": "code",
      "execution_count": null,
      "id": "6d10f408-dcc6-4081-b2d2-130af65f55d0",
      "metadata": {
        "id": "6d10f408-dcc6-4081-b2d2-130af65f55d0"
      },
      "outputs": [],
      "source": [
        "\n",
        "# Define the number of classes\n",
        "num_classes = 2\n",
        "\n",
        "# Create the custom ViT model\n",
        "input_shape = (NUM_FRAMES, IMG_SIZE[0], IMG_SIZE[1], 3)\n",
        "model = vit_model(input_shape, num_classes)\n",
        "\n",
        "# Compile the model with binary cross-entropy loss\n",
        "optimizer = tf.keras.optimizers.Adam(learning_rate=0.0001)\n",
        "\n",
        "\n",
        "\n",
        "model.compile(optimizer=optimizer, loss='binary_crossentropy', metrics=['accuracy'])\n"
      ]
    },
    {
      "cell_type": "code",
      "execution_count": null,
      "id": "9737d2f7-95fc-4cae-b6aa-9f83f35bdac9",
      "metadata": {
        "colab": {
          "base_uri": "https://localhost:8080/"
        },
        "id": "9737d2f7-95fc-4cae-b6aa-9f83f35bdac9",
        "outputId": "ead0801d-5a10-4dde-f964-8b4cb84359d4"
      },
      "outputs": [
        {
          "name": "stdout",
          "output_type": "stream",
          "text": [
            "Epoch 1/10\n",
            "32/32 [==============================] - 50s 377ms/step - loss: 1.3160 - accuracy: 0.5000 - val_loss: 0.6922 - val_accuracy: 0.5500\n",
            "Epoch 2/10\n",
            "32/32 [==============================] - 10s 307ms/step - loss: 0.9295 - accuracy: 0.5625 - val_loss: 0.8374 - val_accuracy: 0.5250\n",
            "Epoch 3/10\n",
            "32/32 [==============================] - 10s 312ms/step - loss: 0.5658 - accuracy: 0.7437 - val_loss: 1.2140 - val_accuracy: 0.5250\n",
            "Epoch 4/10\n",
            "32/32 [==============================] - 11s 333ms/step - loss: 0.3756 - accuracy: 0.8687 - val_loss: 1.5812 - val_accuracy: 0.4500\n",
            "Epoch 5/10\n",
            "32/32 [==============================] - 10s 313ms/step - loss: 0.1391 - accuracy: 0.9438 - val_loss: 1.9027 - val_accuracy: 0.4750\n",
            "Epoch 6/10\n",
            "32/32 [==============================] - 10s 312ms/step - loss: 0.0987 - accuracy: 0.9875 - val_loss: 4.0998 - val_accuracy: 0.4500\n",
            "Epoch 7/10\n",
            "32/32 [==============================] - 10s 316ms/step - loss: 0.1236 - accuracy: 0.9750 - val_loss: 2.6374 - val_accuracy: 0.4750\n",
            "Epoch 8/10\n",
            "32/32 [==============================] - 10s 315ms/step - loss: 0.2812 - accuracy: 0.9375 - val_loss: 1.7760 - val_accuracy: 0.5250\n",
            "Epoch 9/10\n",
            "32/32 [==============================] - 10s 324ms/step - loss: 0.2570 - accuracy: 0.9312 - val_loss: 1.0856 - val_accuracy: 0.5750\n",
            "Epoch 10/10\n",
            "32/32 [==============================] - 10s 312ms/step - loss: 0.1422 - accuracy: 0.9438 - val_loss: 2.0985 - val_accuracy: 0.4500\n"
          ]
        }
      ],
      "source": [
        "history = model.fit(x_train, y_train, epochs=EPOCHS, batch_size=BATCH_SIZE, validation_data=(x_valid, y_valid))"
      ]
    },
    {
      "cell_type": "code",
      "execution_count": null,
      "id": "eb5fd96f-a440-4038-b236-60ce7a9d9567",
      "metadata": {
        "id": "eb5fd96f-a440-4038-b236-60ce7a9d9567"
      },
      "outputs": [],
      "source": [
        "\n",
        "import datetime\n",
        "import tensorflow_hub as hub"
      ]
    },
    {
      "cell_type": "code",
      "execution_count": null,
      "id": "c8d8bd38-ca66-4c3f-8594-f9d02b4259ba",
      "metadata": {
        "id": "c8d8bd38-ca66-4c3f-8594-f9d02b4259ba"
      },
      "outputs": [],
      "source": [
        "IMG_SIZE=224\n",
        "\n",
        "def process_image(image_path):\n",
        "  image=tf.io.read_file(image_path)\n",
        "  image=tf.image.decode_jpeg(image,channels=3)\n",
        "  image=tf.image.convert_image_dtype(image,tf.float32)\n",
        "  image=tf.image.resize(image,size=[IMG_SIZE,IMG_SIZE])\n",
        "  return image"
      ]
    },
    {
      "cell_type": "code",
      "execution_count": null,
      "id": "6911b8df-7359-43be-af4a-29954ffdff07",
      "metadata": {
        "id": "6911b8df-7359-43be-af4a-29954ffdff07"
      },
      "outputs": [],
      "source": [
        "def save_model(model,suffix=None):\n",
        "    modeldir=os.path.join(\"/content/drive/MyDrive/CapstoneTeam_115\",datetime.datetime.now().strftime(\"%Y%m%d-%H%M%s\"))\n",
        "    model_path=modeldir + \"-\" + suffix + \".h5\"\n",
        "    model.save(model_path)\n",
        "    return model_path"
      ]
    },
    {
      "cell_type": "code",
      "execution_count": null,
      "id": "796755d6-7c92-4028-bb73-a7b9de03a5e3",
      "metadata": {
        "id": "796755d6-7c92-4028-bb73-a7b9de03a5e3"
      },
      "outputs": [],
      "source": [
        "def load_model(model_path):\n",
        "    model=tf.keras.models.load_model(model_path,custom_objects={\"KerasLayer\":hub.KerasLayer})\n",
        "    return model"
      ]
    },
    {
      "cell_type": "code",
      "execution_count": null,
      "id": "9ae1e76d-41ea-480b-a458-2adaa09581a0",
      "metadata": {
        "colab": {
          "base_uri": "https://localhost:8080/",
          "height": 90
        },
        "id": "9ae1e76d-41ea-480b-a458-2adaa09581a0",
        "outputId": "d139e452-ef7e-4237-af77-34587ee8ab8d"
      },
      "outputs": [
        {
          "name": "stderr",
          "output_type": "stream",
          "text": [
            "/usr/local/lib/python3.10/dist-packages/keras/src/engine/training.py:3079: UserWarning: You are saving your model as an HDF5 file via `model.save()`. This file format is considered legacy. We recommend using instead the native Keras format, e.g. `model.save('my_model.keras')`.\n",
            "  saving_api.save_model(\n"
          ]
        },
        {
          "data": {
            "application/vnd.google.colaboratory.intrinsic+json": {
              "type": "string"
            },
            "text/plain": [
              "'/content/drive/MyDrive/CapstoneTeam_115/20231106-08361699259804-On-100-videos-vit-2.h5'"
            ]
          },
          "execution_count": 10,
          "metadata": {},
          "output_type": "execute_result"
        }
      ],
      "source": [
        "save_model(model,suffix=\"On-100-videos-vit-2\")"
      ]
    },
    {
      "cell_type": "code",
      "execution_count": null,
      "id": "yXX7IcgOnDaQ",
      "metadata": {
        "id": "yXX7IcgOnDaQ"
      },
      "outputs": [],
      "source": [
        "import cv2\n",
        "import numpy as np\n",
        "from tensorflow.keras.models import load_model\n",
        "\n",
        "# Load the trained model\n",
        "model = load_model('/content/drive/MyDrive/CapstoneTeam_115/20231104-14521699109536-On-50-videos-ri.h5')\n",
        "\n",
        "# Load and preprocess the video\n",
        "video_path = '/content/drive/MyDrive/CapstoneTeam_115/Dachcam_dataset/videos/training/pos50/Copy of 000001.mp4'\n",
        "#video_path = '/content/drive/MyDrive/CapstoneTeam_115/Dachcam_dataset/videos/training/neg50/Copy of 000001.mp4'\n",
        "cap = cv2.VideoCapture(video_path)\n",
        "frame_count = int(cap.get(cv2.CAP_PROP_FRAME_COUNT))\n",
        "\n",
        "# Create a list to store preprocessed frames\n",
        "frames = []\n",
        "\n"
      ]
    },
    {
      "cell_type": "code",
      "execution_count": null,
      "id": "eKt11s6kzuPD",
      "metadata": {
        "id": "eKt11s6kzuPD"
      },
      "outputs": [],
      "source": [
        "import cv2\n",
        "import numpy as np\n",
        "from tensorflow.keras.models import load_model\n",
        "\n",
        "# Load the trained model\n",
        "model = load_model('/content/drive/MyDrive/CapstoneTeam_115/20231104-14521699109536-On-50-videos-ri.h5')\n",
        "\n"
      ]
    },
    {
      "cell_type": "code",
      "execution_count": null,
      "id": "7sDhd9Pt5MjN",
      "metadata": {
        "id": "7sDhd9Pt5MjN"
      },
      "outputs": [],
      "source": [
        "\n",
        "IMG_SIZE = (224, 224)\n",
        "NUM_FRAMES = 10\n",
        "BATCH_SIZE = 5\n",
        "EPOCHS = 10\n",
        "def extract_frames(video_path):\n",
        "    frames = []\n",
        "    cap = cv2.VideoCapture(video_path)\n",
        "    while len(frames) < NUM_FRAMES:\n",
        "        ret, frame = cap.read()\n",
        "        if not ret:\n",
        "            break\n",
        "        frame = cv2.resize(frame, IMG_SIZE)\n",
        "        frames.append(frame)\n",
        "    cap.release()\n",
        "    return np.array(frames)"
      ]
    },
    {
      "cell_type": "code",
      "execution_count": null,
      "id": "HELSC_wW3Q0O",
      "metadata": {
        "colab": {
          "base_uri": "https://localhost:8080/"
        },
        "id": "HELSC_wW3Q0O",
        "outputId": "d62807f9-e7c0-45f4-b0b2-b1355ad36bc8"
      },
      "outputs": [
        {
          "name": "stdout",
          "output_type": "stream",
          "text": [
            "1/1 [==============================] - 2s 2s/step\n",
            "Negative video\n"
          ]
        }
      ],
      "source": [
        " #Load and preprocess the video\n",
        "#video_path = '/content/drive/MyDrive/CapstoneTeam_115/Dachcam_dataset/videos/training/pos50/Copy of 000002.mp4'\n",
        "video_path = '/content/drive/MyDrive/CapstoneTeam_115/Dachcam_dataset/videos/training/neg50/Copy of 000002.mp4'\n",
        "\n",
        "# Extract frames from the video\n",
        "frames = extract_frames(video_path)\n",
        "\n",
        "# Preprocess the frames\n",
        "frames = frames / 255.0\n",
        "frames = frames.reshape((1, NUM_FRAMES, IMG_SIZE[0], IMG_SIZE[1], 3))\n",
        "\n",
        "# Make predictions\n",
        "predictions = model.predict(frames)\n",
        "\n",
        "# Interpret predictions\n",
        "threshold = 0.5\n",
        "if predictions > threshold:\n",
        "    print(\"Positive video\")\n",
        "else:\n",
        "    print(\"Negative video\")\n"
      ]
    },
    {
      "cell_type": "code",
      "execution_count": null,
      "id": "ADAgamQn5G1K",
      "metadata": {
        "colab": {
          "base_uri": "https://localhost:8080/",
          "height": 595
        },
        "id": "ADAgamQn5G1K",
        "outputId": "fc170160-67f1-4d12-90b3-a74e5b409311"
      },
      "outputs": [
        {
          "name": "stdout",
          "output_type": "stream",
          "text": [
            "2/2 [==============================] - 4s 1s/step\n"
          ]
        },
        {
          "data": {
            "image/png": "[encoded data removed]",
            "text/plain": [
              "<Figure size 800x600 with 1 Axes>"
            ]
          },
          "metadata": {},
          "output_type": "display_data"
        }
      ],
      "source": [
        "# Assuming x_valid contains the preprocessed validation frames and y_valid contains the corresponding true labels (0 or 1)\n",
        "from sklearn.metrics import accuracy_score, precision_score, recall_score, f1_score, confusion_matrix\n",
        "import matplotlib.pyplot as plt\n",
        "import seaborn as sns\n",
        "# Make predictions on the validation data\n",
        "y_pred = model.predict(x_valid)\n",
        "\n",
        "# Apply a threshold to the predicted probabilities to convert them into binary predictions\n",
        "threshold = 0.14\n",
        "y_pred_binary = (y_pred > threshold).astype(int)\n",
        "\n",
        "# Calculate the confusion matrix\n",
        "conf_matrix = confusion_matrix(y_valid, y_pred_binary)\n",
        "\n",
        "# Visualize the confusion matrix using seaborn and matplotlib\n",
        "plt.figure(figsize=(8, 6))\n",
        "sns.set(font_scale=1.2)  # Adjust the font size if needed\n",
        "cmap = sns.color_palette(\"YlGnBu\")\n",
        "sns.heatmap(conf_matrix, annot=True, fmt='d', cmap=cmap, cbar=False,\n",
        "            xticklabels=['Predicted Negative', 'Predicted Positive'],\n",
        "            yticklabels=['True Negative', 'True Positive'])\n",
        "plt.xlabel('Predicted')\n",
        "plt.ylabel('True')\n",
        "plt.title('Confusion Matrix')\n",
        "plt.show()\n"
      ]
    },
    {
      "cell_type": "code",
      "execution_count": null,
      "id": "XZQgnN8t6FWz",
      "metadata": {
        "colab": {
          "base_uri": "https://localhost:8080/",
          "height": 502
        },
        "id": "XZQgnN8t6FWz",
        "outputId": "613518ac-249c-4ae2-dcbb-e48087d0f266"
      },
      "outputs": [
        {
          "name": "stdout",
          "output_type": "stream",
          "text": [
            "2/2 [==============================] - 1s 118ms/step\n"
          ]
        },
        {
          "data": {
            "image/png": "[encoded data removed]",
            "text/plain": [
              "<Figure size 640x480 with 1 Axes>"
            ]
          },
          "metadata": {},
          "output_type": "display_data"
        }
      ],
      "source": [
        "import matplotlib.pyplot as plt\n",
        "from sklearn.metrics import roc_curve, auc\n",
        "# Make predictions on the validation data\n",
        "y_pred = model.predict(x_valid)\n",
        "\n",
        "# Apply a threshold to the predicted probabilities to convert them into binary predictions\n",
        "threshold = 0.1419\n",
        "\n",
        "\n",
        "y_pred_binary = (y_pred > threshold).astype(int)\n",
        "\n",
        "# Calculate the ROC curve\n",
        "fpr, tpr, thresholds = roc_curve(y_valid, y_pred_binary)\n",
        "\n",
        "# Calculate the AUC (Area Under the Curve)\n",
        "roc_auc = auc(fpr, tpr)\n",
        "\n",
        "# Plot the ROC curve\n",
        "plt.figure()\n",
        "plt.plot(fpr, tpr, color='darkorange', lw=2, label='ROC curve (area = {:.2f})'.format(roc_auc))\n",
        "plt.plot([0, 1], [0, 1], color='navy', lw=2, linestyle='--')\n",
        "plt.xlim([0.0, 1.0])\n",
        "plt.ylim([0.0, 1.05])\n",
        "plt.xlabel('False Positive Rate')\n",
        "plt.ylabel('True Positive Rate')\n",
        "plt.title('Receiver Operating Characteristic (ROC)')\n",
        "plt.legend(loc='lower right')\n",
        "plt.show()\n"
      ]
    }
  ],
  "metadata": {
    "accelerator": "GPU",
    "colab": {
      "collapsed_sections": [
        "4oFF9-JexHQD"
      ],
      "gpuType": "T4",
      "provenance": []
    },
    "kernelspec": {
      "display_name": "Python 3",
      "name": "python3"
    },
    "language_info": {
      "codemirror_mode": {
        "name": "ipython",
        "version": 3
      },
      "file_extension": ".py",
      "mimetype": "text/x-python",
      "name": "python",
      "nbconvert_exporter": "python",
      "pygments_lexer": "ipython3",
      "version": "3.8.10"
    }
  },
  "nbformat": 4,
  "nbformat_minor": 5
}
